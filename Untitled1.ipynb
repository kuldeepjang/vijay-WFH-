{
 "cells": [
  {
   "cell_type": "code",
   "execution_count": 1,
   "id": "a1674428-9816-4e5e-a9ce-bd82c2bbe38f",
   "metadata": {},
   "outputs": [
    {
     "name": "stderr",
     "output_type": "stream",
     "text": [
      "[nltk_data] Downloading package punkt to\n",
      "[nltk_data]     C:\\Users\\saten\\AppData\\Roaming\\nltk_data...\n",
      "[nltk_data]   Package punkt is already up-to-date!\n"
     ]
    }
   ],
   "source": [
    "import re\n",
    "import spacy\n",
    "import nltk\n",
    "nltk.download('punkt')\n",
    "from nltk.tokenize import sent_tokenize\n",
    "from sklearn.feature_extraction.text import TfidfVectorizer\n",
    "from sklearn.decomposition import LatentDirichletAllocation"
   ]
  },
  {
   "cell_type": "code",
   "execution_count": 2,
   "id": "fba82a50-6115-4704-9d18-c582ae4686bd",
   "metadata": {},
   "outputs": [],
   "source": [
    "# Load spaCy English model\n",
    "nlp = spacy.load(\"en_core_web_sm\")"
   ]
  },
  {
   "cell_type": "code",
   "execution_count": 3,
   "id": "e7ec5288-cc0f-4219-af4a-ba03476288ac",
   "metadata": {},
   "outputs": [],
   "source": [
    "# Sample Input Text\n",
    "text = \"\"\"\n",
    "Rahul wakes up early every day. He goes to college in the morning and comes back at 3 pm.\n",
    "At present, Rahul is outside. He has to buy the snacks for all of us. John should finish the report by 5 pm.\n",
    "Anita needs to schedule a meeting for tomorrow.\n",
    "\"\"\""
   ]
  },
  {
   "cell_type": "code",
   "execution_count": 4,
   "id": "6e8ad09d-90a1-4042-93c8-c91e954e8cef",
   "metadata": {},
   "outputs": [],
   "source": [
    "# Preprocessing Function\n",
    "def preprocess_text(text):\n",
    "    \"\"\"\n",
    "    Convert text to lowercase, remove punctuation, and tokenize into sentences.\n",
    "    Challenge: Some sentence tokenization may not work correctly if punctuation is missing.\n",
    "    \"\"\"\n",
    "    text = text.lower()\n",
    "    text = re.sub(r'[^a-zA-Z0-9\\s]', '', text)  # Remove punctuation\n",
    "    doc = nlp(text)\n",
    "    sentences = [sent.text.strip() for sent in doc.sents]  # Use spaCy's sentence segmentation\n",
    "    return sentences"
   ]
  },
  {
   "cell_type": "code",
   "execution_count": 5,
   "id": "2c2707a8-d8a7-44f8-b6d0-c695be369169",
   "metadata": {},
   "outputs": [],
   "source": [
    "# Extract Tasks using Heuristics\n",
    "def extract_tasks(sentences):\n",
    "    \"\"\"\n",
    "    Identify task-related sentences by checking for action words.\n",
    "    Challenge: Some tasks may not explicitly contain 'to', 'should', or 'needs to', leading to false negatives.\n",
    "    \"\"\"\n",
    "    task_sentences = []\n",
    "    for sentence in sentences:\n",
    "        doc = nlp(sentence)\n",
    "        verbs = [token.text for token in doc if token.pos_ == \"VERB\"]\n",
    "        if any(verb in sentence for verb in verbs):  # Check for action words\n",
    "            if \"to\" in sentence or \"should\" in sentence or \"needs to\" in sentence:\n",
    "                task_sentences.append(sentence)\n",
    "    return task_sentences"
   ]
  },
  {
   "cell_type": "code",
   "execution_count": 6,
   "id": "d5973a5e-8017-4ed7-a8d0-02b659cfdb60",
   "metadata": {},
   "outputs": [],
   "source": [
    "# Extract Entities (Assignee & Deadline)\n",
    "def extract_entities(task_sentences):\n",
    "    \"\"\"\n",
    "    Extract names of people (assignee) and deadlines (time, date).\n",
    "    Challenge: Named entity recognition (NER) might miss informal references to time or names not in training data.\n",
    "    \"\"\"\n",
    "    structured_tasks = []\n",
    "    for sentence in task_sentences:\n",
    "        doc = nlp(sentence)\n",
    "        assignee = [ent.text for ent in doc.ents if ent.label_ == \"PERSON\"]\n",
    "        deadline = [ent.text for ent in doc.ents if ent.label_ in [\"TIME\", \"DATE\"]]\n",
    "        structured_tasks.append({\"task\": sentence, \"assignee\": assignee, \"deadline\": deadline})\n",
    "    return structured_tasks"
   ]
  },
  {
   "cell_type": "code",
   "execution_count": 7,
   "id": "ef98b196-7e41-495e-8eb1-ad75d313a67a",
   "metadata": {},
   "outputs": [],
   "source": [
    "# Categorization using LDA (Topic Modeling)\n",
    "def categorize_tasks(task_sentences):\n",
    "    \"\"\"\n",
    "    Categorize tasks into predefined topics using LDA.\n",
    "    Challenge: LDA requires a sufficient amount of text data to generate meaningful topics.\n",
    "    \"\"\"\n",
    "    vectorizer = TfidfVectorizer(stop_words='english')\n",
    "    X = vectorizer.fit_transform(task_sentences)\n",
    "    lda = LatentDirichletAllocation(n_components=3, random_state=42)\n",
    "    lda.fit(X)\n",
    "    topics = lda.transform(X)\n",
    "    categories = [\"Work\", \"Personal\", \"Miscellaneous\"]\n",
    "    categorized_tasks = [{\"task\": task_sentences[i], \"category\": categories[topics[i].argmax()]} for i in range(len(task_sentences))]\n",
    "    return categorized_tasks"
   ]
  },
  {
   "cell_type": "code",
   "execution_count": 8,
   "id": "086e2d1a-5c88-49aa-b5d6-5348a42ff83d",
   "metadata": {},
   "outputs": [],
   "source": [
    "# Execution\n",
    "sentences = preprocess_text(text)\n",
    "tasks = extract_tasks(sentences)\n",
    "structured_tasks = extract_entities(tasks)\n",
    "categorized_tasks = categorize_tasks(tasks)"
   ]
  },
  {
   "cell_type": "code",
   "execution_count": 9,
   "id": "ebf88be7-74bd-43d0-80d4-fb371dd1a88c",
   "metadata": {},
   "outputs": [
    {
     "name": "stdout",
     "output_type": "stream",
     "text": [
      "Extracted Tasks: [{'task': 'rahul wakes up early every day he goes to college in the morning and comes back at 3 pm\\nat present rahul is outside he has to buy the snacks for all of us john should finish the report by 5 pm\\nanita needs to schedule a meeting for tomorrow', 'assignee': ['anita'], 'deadline': ['early every day', 'the morning', '3 pm', '5 pm', 'tomorrow']}]\n",
      "Categorized Tasks: [{'task': 'rahul wakes up early every day he goes to college in the morning and comes back at 3 pm\\nat present rahul is outside he has to buy the snacks for all of us john should finish the report by 5 pm\\nanita needs to schedule a meeting for tomorrow', 'category': 'Personal'}]\n"
     ]
    }
   ],
   "source": [
    "# Output Results\n",
    "print(\"Extracted Tasks:\", structured_tasks)\n",
    "print(\"Categorized Tasks:\", categorized_tasks)"
   ]
  },
  {
   "cell_type": "code",
   "execution_count": null,
   "id": "b3505f4a-28a3-4caa-a511-62517dcb0c6b",
   "metadata": {},
   "outputs": [],
   "source": []
  }
 ],
 "metadata": {
  "kernelspec": {
   "display_name": "Python 3 (ipykernel)",
   "language": "python",
   "name": "python3"
  },
  "language_info": {
   "codemirror_mode": {
    "name": "ipython",
    "version": 3
   },
   "file_extension": ".py",
   "mimetype": "text/x-python",
   "name": "python",
   "nbconvert_exporter": "python",
   "pygments_lexer": "ipython3",
   "version": "3.12.7"
  }
 },
 "nbformat": 4,
 "nbformat_minor": 5
}
